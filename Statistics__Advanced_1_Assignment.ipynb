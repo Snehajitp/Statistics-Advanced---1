{
  "nbformat": 4,
  "nbformat_minor": 0,
  "metadata": {
    "colab": {
      "provenance": []
    },
    "kernelspec": {
      "name": "python3",
      "display_name": "Python 3"
    },
    "language_info": {
      "name": "python"
    }
  },
  "cells": [
    {
      "cell_type": "markdown",
      "source": [
        "# Statistics Advanced - 1| Assignment"
      ],
      "metadata": {
        "id": "DXXn4KXGOkn4"
      }
    },
    {
      "cell_type": "markdown",
      "source": [
        "**Question 1: What is a random variable in probability theory?**"
      ],
      "metadata": {
        "id": "I3gYu9q8OrXn"
      }
    },
    {
      "cell_type": "markdown",
      "source": [
        "Answer - A random variable in probability theory is a variable that takes on numerical values based on the outcome of a random event. It is a way to quantify uncertain events.\n",
        "\n",
        "Types of random variables:\n",
        "\n",
        "1 Discrete Random Variable – takes specific, countable values.\n",
        "\n",
        "Example: Number of heads when tossing 3 coins (0, 1, 2, 3).\n",
        "\n",
        "2 Continuous Random Variable – takes any value within a range.\n",
        "\n",
        "Example: The height of students in a class (can be 150.5 cm, 160.2 cm, etc.).\n",
        "\n",
        "Random variables are important because they allow us to apply mathematical techniques to study uncertainty and calculate probabilities."
      ],
      "metadata": {
        "id": "VnXfKoZGQRdW"
      }
    },
    {
      "cell_type": "markdown",
      "source": [
        "**Question 2: What are the types of random variables?**"
      ],
      "metadata": {
        "id": "fgN4rhiDOrLo"
      }
    },
    {
      "cell_type": "markdown",
      "source": [
        "Answer - Random variables are classified into two main types based on the kind of values they can take:\n",
        "\n",
        "1. Discrete Random Variable\n",
        "\n",
        "->Takes specific, countable values.\n",
        "\n",
        "->Usually represents counts or whole numbers.\n",
        "\n",
        "Example: Number of students scoring above 80 in a class (0, 1, 2, …).\n",
        "\n",
        "2. Continuous Random Variable\n",
        "\n",
        "->Takes any value within a continuous range.\n",
        "\n",
        "->Usually represents measurements.\n",
        "\n",
        "Example: Height, weight, or temperature of students.\n",
        "\n",
        "In summary, discrete variables count outcomes, while continuous variables measure outcomes. Both types are used in probability and statistics to model random events and calculate probabilities."
      ],
      "metadata": {
        "id": "Uil-BSNYQaKO"
      }
    },
    {
      "cell_type": "markdown",
      "source": [
        "**Question 3: Explain the difference between discrete and continuous distributions**"
      ],
      "metadata": {
        "id": "O19M5vZpOojX"
      }
    },
    {
      "cell_type": "markdown",
      "source": [
        "Answer - Discrete and continuous distributions are two types of probability distributions based on the type of random variable:\n",
        "\n",
        "Discrete Distribution -\n",
        "\n",
        "*  Deals with discrete random variables that take specific, countable values.\n",
        "*   The probability of each value can be listed individually.\n",
        "\n",
        "Example: The probability distribution of the number of heads in 3 coin tosses:\n",
        "\n",
        "P(0 heads) = 1/8, P(1 head) = 3/8, P(2 heads) = 3/8, P(3 heads) = 1/8\n",
        "\n",
        "Continuous Distribution -\n",
        "\n",
        "\n",
        "*   Deals with continuous random variables that take any value in a range.\n",
        "*   Probabilities are defined over intervals using a probability density function (PDF), not individual values.\n",
        "\n",
        "Example: The distribution of heights of students in a class can be modeled using a normal distribution.\n",
        "\n",
        "Key Difference:\n",
        "\n",
        "*   Discrete distribution → countable outcomes, probabilities for each value.\n",
        "*   Continuous distribution → uncountable outcomes, probabilities for ranges of values.\n",
        "\n",
        "\n",
        "\n"
      ],
      "metadata": {
        "id": "H7-6cL4gROhN"
      }
    },
    {
      "cell_type": "markdown",
      "source": [
        "**Question 4: What is a binomial distribution, and how is it used in probability?**"
      ],
      "metadata": {
        "id": "H0K17X5LOogW"
      }
    },
    {
      "cell_type": "markdown",
      "source": [
        "Answer - A binomial distribution is a discrete probability distribution that\n",
        "\n",
        "describes the number of successes in a fixed number of independent trials, where each trial has only two possible outcomes: success or failure.\n",
        "\n",
        "Key characteristics of a binomial distribution:\n",
        "\n",
        "\n",
        "1.   There are a fixed number of trials,\n",
        "𝑛\n",
        "n.\n",
        "2.   Each trial has only two outcomes: success or failure.\n",
        "3.   The probability of success,\n",
        "𝑝\n",
        "p, is the same in each trial.\n",
        "4. The trials are independent of each other.\n",
        "\n",
        "\n",
        "Example:\n",
        "If a coin is tossed 5 times, the probability of getting exactly 3 heads can be calculated using a binomial distribution.\n",
        "\n",
        "Use in probability:\n",
        "\n",
        "1. Binomial distribution is used in situations where outcomes are success/failure, like defective products, exam pass/fail rates, or survey responses.\n",
        "\n",
        "2. It helps calculate probabilities and make decisions based on expected successes."
      ],
      "metadata": {
        "id": "EYx55T5HR-Wc"
      }
    },
    {
      "cell_type": "markdown",
      "source": [
        "**Question 5: What is the standard normal distribution, and why is it important?**"
      ],
      "metadata": {
        "id": "h2JYUHyyOocJ"
      }
    },
    {
      "cell_type": "markdown",
      "source": [
        "Answer - The standard normal distribution is a type of normal distribution that has a mean (μ) of 0 and a standard deviation (σ) of 1. It is represented as a symmetric, bell-shaped curve centered at zero. Any value in a normal distribution can be converted into the standard normal form using a z-score, which measures how many standard deviations a point is away from the mean.\n",
        "\n",
        "\n",
        "𝑧 = (𝑥 - 𝜇)/ σ\n",
        "\n",
        "Importance of the Standard Normal Distribution:\n",
        "\n",
        "1. Simplifies probability calculations – By converting data into z-scores, we can use standard normal tables to quickly find probabilities.\n",
        "\n",
        "2. Widely used in hypothesis testing – Tests like the z-test are directly based on this distribution.\n",
        "\n",
        "3. Comparison across datasets – Z-scores allow us to compare data from different normal distributions on a common scale.\n",
        "\n",
        "4. Foundation in statistics – Many real-world data patterns follow normal distribution, and the standard normal makes analysis easier.\n",
        "\n",
        "Example:\n",
        "Suppose exam scores are normally distributed with a mean of 70 and a standard deviation of 10. If a student scores 80, then:\n",
        "\n",
        "z = (80-70)/10 = 1\n",
        "\n",
        "This means the student’s score is 1 standard deviation above the average."
      ],
      "metadata": {
        "id": "SYVAEIFWi3oP"
      }
    },
    {
      "cell_type": "markdown",
      "source": [
        "**Question 6: What is the Central Limit Theorem (CLT), and why is it critical in statistics?**"
      ],
      "metadata": {
        "id": "e1vDytiYOoXm"
      }
    },
    {
      "cell_type": "markdown",
      "source": [
        "Answer - The Central Limit Theorem (CLT) is one of the most important concepts in statistics. It states that:\n",
        "\n",
        "When independent random samples are taken from any population with a finite mean and variance, the distribution of the sample means approaches a normal distribution as the sample size becomes large, regardless of the original population’s distribution.\n",
        "\n",
        "In simple terms, no matter what shape the population distribution has (skewed, uniform, etc.), if we take large enough samples repeatedly and calculate their means, the distribution of these means will look like a bell curve (normal distribution).\n",
        "\n",
        "Why CLT is Critical in Statistics:\n",
        "\n",
        "1. Basis for inferential statistics – It allows us to make predictions about populations using sample data.\n",
        "\n",
        "2. Hypothesis testing – Many tests (like z-test and t-test) rely on the assumption of normality, which CLT helps justify.\n",
        "\n",
        "3. Confidence intervals – CLT makes it possible to estimate population parameters with sample statistics.\n",
        "\n",
        "4. Practical applications – It is used in fields like finance, medicine, and quality control to analyze real-world data.\n",
        "\n",
        "Example:\n",
        "\n",
        "Imagine the population of exam scores is skewed. If we repeatedly take samples of size 30 or more and calculate the average for each sample, the histogram of those averages will approximate a normal distribution, even though the original data is not normal.\n",
        "\n",
        "This makes CLT a powerful tool, as it connects sample statistics to population inference."
      ],
      "metadata": {
        "id": "p1IGOM-bjyxH"
      }
    },
    {
      "cell_type": "markdown",
      "source": [
        "**Question 7: What is the significance of confidence intervals in statistical analysis?**"
      ],
      "metadata": {
        "id": "ZhCh__E9OoSw"
      }
    },
    {
      "cell_type": "markdown",
      "source": [
        "Answer - A confidence interval (CI) is a range of values that is likely to contain the true population parameter (such as mean or proportion) with a certain level of confidence. Instead of giving a single point estimate, it provides an interval estimate which shows the level of uncertainty in our prediction.\n",
        "\n",
        "Significance of Confidence Intervals in Statistical Analysis:\n",
        "\n",
        "1. Measures Reliability – CIs show how precise or reliable our sample statistic is in estimating the population parameter.\n",
        "\n",
        "2. Accounts for Sampling Error – Since sample data may vary, CIs acknowledge this variability and provide a realistic range.\n",
        "\n",
        "3. Better than Point Estimates – A single number (like the mean) may be misleading, but a CI gives a more informative picture.\n",
        "\n",
        "4. Used in Decision Making – Helps researchers and businesses understand the degree of uncertainty before making conclusions.\n",
        "\n",
        "Links with Hypothesis Testing – Confidence intervals are closely related to significance levels (α). For example, a 95% CI corresponds to a 5% significance level.\n",
        "\n",
        "Example:\n",
        "\n",
        "Suppose the average score of a sample of students is 75 with a 95% confidence interval of (72, 78). This means we are 95% confident that the true average score of the population lies between 72 and 78.\n",
        "\n",
        "Thus, confidence intervals are critical in making population-level conclusions from sample data while quantifying the uncertainty involved."
      ],
      "metadata": {
        "id": "_TMOfT5lkG8O"
      }
    },
    {
      "cell_type": "markdown",
      "source": [
        "**Question 8: What is the concept of expected value in a probability distribution?**"
      ],
      "metadata": {
        "id": "LthgM2rtOnHH"
      }
    },
    {
      "cell_type": "markdown",
      "source": [
        "Answer - The expected value (EV) in a probability distribution represents the long-term average or mean value of a random variable if an experiment is repeated many times. It tells us what outcome we can “expect on average.”\n",
        "\n",
        "Importance of Expected Value:\n",
        "\n",
        "1. Summarizes a distribution into a single representative value.\n",
        "\n",
        "2. Helps in decision-making, especially in economics, finance, and risk analysis.\n",
        "\n",
        "3. Predicts long-term outcomes in repeated experiments.\n",
        "\n",
        "Example:\n",
        "\n",
        "Suppose you roll a fair six-sided die.\n",
        "\n",
        "Possible outcomes: 1, 2, 3, 4, 5, 6\n",
        "\n",
        "Each with probability = 1/6.\n",
        "\n",
        "E(X)= (1+2+3+4+5+6)/6 =3.5\n",
        "\n",
        "This means that while you can never roll a 3.5, the average outcome over many rolls will tend toward 3.5."
      ],
      "metadata": {
        "id": "pqHSPpsIkZz2"
      }
    },
    {
      "cell_type": "markdown",
      "source": [
        "**Question 9: Write a Python program to generate 1000 random numbers from a normal\n",
        "distribution with mean = 50 and standard deviation = 5. Compute its mean and standard\n",
        "deviation using NumPy, and draw a histogram to visualize the distribution.**"
      ],
      "metadata": {
        "id": "A5HO76KtOndY"
      }
    },
    {
      "cell_type": "code",
      "source": [
        "import numpy as np\n",
        "import matplotlib.pyplot as plt\n",
        "\n",
        "data = np.random.normal(loc=50, scale=5, size=1000)\n",
        "\n",
        "mean_val = np.mean(data)\n",
        "std_val = np.std(data)\n",
        "\n",
        "print(\"Computed Mean:\", mean_val)\n",
        "print(\"Computed Standard Deviation:\", std_val)\n",
        "\n",
        "plt.hist(data, bins=30, color='skyblue', edgecolor='black')\n",
        "plt.title(\"Histogram of Normal Distribution (Mean=50, SD=5)\")\n",
        "plt.xlabel(\"Value\")\n",
        "plt.ylabel(\"Frequency\")\n",
        "plt.show()\n"
      ],
      "metadata": {
        "colab": {
          "base_uri": "https://localhost:8080/",
          "height": 507
        },
        "id": "DTAGgoiPlJMd",
        "outputId": "4f6f1a57-573c-4cba-9b6d-8d62a57407b8"
      },
      "execution_count": 1,
      "outputs": [
        {
          "output_type": "stream",
          "name": "stdout",
          "text": [
            "Computed Mean: 49.974663996783825\n",
            "Computed Standard Deviation: 4.949184636436097\n"
          ]
        },
        {
          "output_type": "display_data",
          "data": {
            "text/plain": [
              "<Figure size 640x480 with 1 Axes>"
            ],
            "image/png": "[encoded data removed]"
          },
          "metadata": {}
        }
      ]
    },
    {
      "cell_type": "markdown",
      "source": [
        "**Question 10: You are working as a data analyst for a retail company. The company has\n",
        "collected daily sales data for 2 years and wants you to identify the overall sales trend.\n",
        "daily_sales = [220, 245, 210, 265, 230, 250, 260, 275, 240, 255,\n",
        " 235, 260, 245, 250, 225, 270, 265, 255, 250, 260]**\n"
      ],
      "metadata": {
        "id": "Y2jWL3q6On1_"
      }
    },
    {
      "cell_type": "markdown",
      "source": [
        "**● Explain how you would apply the Central Limit Theorem to estimate the average sales with a 95% confidence interval.**"
      ],
      "metadata": {
        "id": "KdcSRkTaPhLu"
      }
    },
    {
      "cell_type": "markdown",
      "source": [
        "Answer - The Central Limit Theorem (CLT) states that if we take repeated random samples from a population, the distribution of the sample means will approximate a normal distribution, regardless of the population’s actual distribution, as long as the sample size is reasonably large.\n",
        "\n",
        "In this case, we want to estimate the average daily sales and calculate a 95% confidence interval (CI).\n",
        "\n",
        "Steps:\n",
        "\n",
        "1. Compute the sample mean of the daily sales.\n",
        "\n",
        "2. Compute the standard deviation (SD) of the sales data.\n",
        "\n",
        "3. Calculate the standard error (SE)\n",
        "\n",
        "4. For a 95% confidence interval, we use the z-score = 1.96.\n",
        "\n",
        "5. Apply the formula\n",
        "\n",
        "    CI = mean +-(z*SE)\n",
        "\n",
        "This interval tells us the range within which the true average sales are likely to fall with 95% confidence."
      ],
      "metadata": {
        "id": "L3QWep2tmKo1"
      }
    },
    {
      "cell_type": "markdown",
      "source": [
        "**● Write the Python code to compute the mean sales and its confidence interval.**"
      ],
      "metadata": {
        "id": "6-qP3WkZPtte"
      }
    },
    {
      "cell_type": "code",
      "source": [
        "import numpy as np\n",
        "import math\n",
        "\n",
        "daily_sales = [220, 245, 210, 265, 230, 250, 260, 275, 240, 255,\n",
        "               235, 260, 245, 250, 225, 270, 265, 255, 250, 260]\n",
        "\n",
        "mean_sales = np.mean(daily_sales)\n",
        "std_sales = np.std(daily_sales, ddof=1)\n",
        "n = len(daily_sales)\n",
        "\n",
        "SE = std_sales / math.sqrt(n)\n",
        "\n",
        "z = 1.96\n",
        "CI_lower = mean_sales - z * SE\n",
        "CI_upper = mean_sales + z * SE\n",
        "\n",
        "print(\"Mean Sales:\", mean_sales)\n",
        "print(\"95% Confidence Interval: (\", CI_lower, \",\", CI_upper, \")\")\n"
      ],
      "metadata": {
        "colab": {
          "base_uri": "https://localhost:8080/"
        },
        "id": "avjaWZ7NPpBG",
        "outputId": "fd9366b9-1688-4af6-ea91-7a3e653a8b67"
      },
      "execution_count": 2,
      "outputs": [
        {
          "output_type": "stream",
          "name": "stdout",
          "text": [
            "Mean Sales: 248.25\n",
            "95% Confidence Interval: ( 240.68312934041109 , 255.81687065958891 )\n"
          ]
        }
      ]
    },
    {
      "cell_type": "code",
      "source": [],
      "metadata": {
        "id": "7KSwGkpOPo9e"
      },
      "execution_count": null,
      "outputs": []
    },
    {
      "cell_type": "code",
      "execution_count": null,
      "metadata": {
        "id": "mNggo_OgOiUj"
      },
      "outputs": [],
      "source": []
    }
  ]
}